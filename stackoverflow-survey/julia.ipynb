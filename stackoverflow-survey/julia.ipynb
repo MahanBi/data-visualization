{
 "cells": [
  {
   "cell_type": "markdown",
   "metadata": {},
   "source": [
    "2021 - https://info.stackoverflowsolutions.com/rs/719-EMH-566/images/stack-overflow-developer-survey-2021.zip\n",
    "2020 - https://info.stackoverflowsolutions.com/rs/719-EMH-566/images/stack-overflow-developer-survey-2020.zip\n",
    "2019 - https://info.stackoverflowsolutions.com/rs/719-EMH-566/images/stack-overflow-developer-survey-2019.zip\n",
    "2018 - https://info.stackoverflowsolutions.com/rs/719-EMH-566/images/stack-overflow-developer-survey-2018.zip\n",
    "2017 - https://info.stackoverflowsolutions.com/rs/719-EMH-566/images/stack-overflow-developer-survey-2017.zip\n",
    "2016 - https://info.stackoverflowsolutions.com/rs/719-EMH-566/images/stack-overflow-developer-survey-2016.zip\n",
    "2015 - https://info.stackoverflowsolutions.com/rs/719-EMH-566/images/stack-overflow-developer-survey-2015.zip\n",
    "2014 - https://info.stackoverflowsolutions.com/rs/719-EMH-566/images/stack-overflow-developer-survey-2014.zip\n",
    "2013 - https://info.stackoverflowsolutions.com/rs/719-EMH-566/images/stack-overflow-developer-survey-2013.zip\n",
    "2012 - https://info.stackoverflowsolutions.com/rs/719-EMH-566/images/stack-overflow-developer-survey-2012.zip\n",
    "2011 - https://info.stackoverflowsolutions.com/rs/719-EMH-566/images/stack-overflow-developer-survey-2011.zip"
   ]
  },
  {
   "cell_type": "code",
   "execution_count": 17,
   "metadata": {},
   "outputs": [],
   "source": [
    "# IMPORTS\n",
    "using Plots, DataFra"
   ]
  }
 ],
 "metadata": {
  "kernelspec": {
   "display_name": "Julia 1.7.2",
   "language": "julia",
   "name": "julia-1.7"
  },
  "language_info": {
   "file_extension": ".jl",
   "mimetype": "application/julia",
   "name": "julia",
   "version": "1.7.2"
  }
 },
 "nbformat": 4,
 "nbformat_minor": 4
}
